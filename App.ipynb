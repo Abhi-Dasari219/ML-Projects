{
 "cells": [
  {
   "cell_type": "code",
   "execution_count": 11,
   "id": "09c848d3",
   "metadata": {},
   "outputs": [
    {
     "name": "stdout",
     "output_type": "stream",
     "text": [
      "Overwriting app.py\n"
     ]
    }
   ],
   "source": [
    "%%writefile app.py\n",
    " \n",
    "import pickle\n",
    "import streamlit as st\n",
    "import pandas as pd\n",
    "import matplotlib.pyplot as plt\n",
    "\n",
    "from sklearn.metrics import confusion_matrix,roc_auc_score,roc_curve,classification_report,roc_curve,auc\n",
    "from sklearn.metrics import accuracy_score,precision_score, recall_score, f1_score,roc_auc_score\n",
    "\n",
    "def udf_roc_auc_curve_diagram(actual,predicted):\n",
    "    #print('Confusion Metrix:')\n",
    "    #print(confusion_matrix(actual,predicted))\n",
    "\n",
    "    #print('Accuracy Score: {0:.2f} ,Precision: {1:.2f}, Recall: {2:.2f} , F1 Score: {3:.2f} '.format(accuracy_score(actual,predicted),precision_score(actual,predicted),recall_score(actual,predicted),f1_score(actual,predicted)))\n",
    "\n",
    "    fpr, recall, thresholds = roc_curve(actual,predicted)\n",
    "    roc_auc = auc(fpr, recall)\n",
    "\n",
    "\n",
    "    fig = plt.figure()\n",
    "    ax = fig.add_subplot(111)\n",
    "    plt.plot(fpr, recall)\n",
    "    plt.plot([0, 1], [0, 1], 'o--')\n",
    "    plt.title('AUC = %0.2f' % roc_auc)\n",
    "    plt.ylabel('True Positive Rate')\n",
    "    plt.xlabel('False Positive Rate')\n",
    "    st.pyplot(plt)\n",
    "    \n",
    "upload_file=st.file_uploader(\"Select a file:\")\n",
    "\n",
    "if upload_file is not None:\n",
    "    \n",
    "    df=pd.read_csv(upload_file)\n",
    "    #st.write(df)\n",
    "\n",
    "# loading the trained model\n",
    "    pickle_in = open('classifier.pkl', 'rb') \n",
    "    classifier = pickle.load(pickle_in)\n",
    "    \n",
    "    X_test=df[df.columns[2:202]]\n",
    "    y_test=df['target']\n",
    "    \n",
    "    y_pred=classifier.predict(X_test)\n",
    "    \n",
    "    \n",
    "    udf_roc_auc_curve_diagram(y_test,y_pred)\n",
    "    st.write(X_test.head())\n",
    "    st.write(X_test.head())\n",
    "    \n",
    "  \n"
   ]
  },
  {
   "cell_type": "code",
   "execution_count": null,
   "id": "8ca1865a",
   "metadata": {},
   "outputs": [],
   "source": []
  }
 ],
 "metadata": {
  "kernelspec": {
   "display_name": "Python 3 (ipykernel)",
   "language": "python",
   "name": "python3"
  },
  "language_info": {
   "codemirror_mode": {
    "name": "ipython",
    "version": 3
   },
   "file_extension": ".py",
   "mimetype": "text/x-python",
   "name": "python",
   "nbconvert_exporter": "python",
   "pygments_lexer": "ipython3",
   "version": "3.9.7"
  }
 },
 "nbformat": 4,
 "nbformat_minor": 5
}
