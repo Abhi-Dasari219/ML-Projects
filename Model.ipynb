{
 "cells": [
  {
   "cell_type": "code",
   "execution_count": 2,
   "id": "79c1ef23",
   "metadata": {},
   "outputs": [
    {
     "name": "stdout",
     "output_type": "stream",
     "text": [
      "Overwriting model.py\n"
     ]
    }
   ],
   "source": [
    "%%writefile model.py \n",
    "# Import All the libraries used in this project\n",
    "import numpy as np\n",
    "import pandas as pd\n",
    "import matplotlib.pyplot as plt\n",
    "import seaborn as sns\n",
    "import warnings\n",
    "from sklearn.preprocessing import MinMaxScaler,StandardScaler\n",
    "from sklearn.decomposition import PCA\n",
    "from sklearn.model_selection import train_test_split\n",
    "from sklearn.model_selection import StratifiedKFold\n",
    "from sklearn.linear_model import LogisticRegression\n",
    "from sklearn.metrics import confusion_matrix,roc_auc_score,roc_curve,classification_report,roc_curve,auc\n",
    "from sklearn.metrics import accuracy_score,precision_score, recall_score, f1_score,roc_auc_score\n",
    "import lightgbm as lgb\n",
    "from sklearn.tree import DecisionTreeClassifier\n",
    "from sklearn.ensemble import RandomForestClassifier\n",
    "from imblearn.over_sampling import RandomOverSampler,BorderlineSMOTE,SMOTE, ADASYN\n",
    "\n",
    "\n",
    "import joblib\n",
    "import streamlit as st\n",
    "\n",
    "warnings.filterwarnings(\"ignore\")\n",
    "\n",
    "def dataOverSampler(X,y):\n",
    "\n",
    "  ros = RandomOverSampler(random_state=42)\n",
    "  X_balanced, y_balanced = ros.fit_resample(X, y)\n",
    "  X_df = pd.DataFrame(X_balanced,columns=X.columns)\n",
    "  X_df['target'] = y_balanced\n",
    "\n",
    "  return X_df\n",
    "\n",
    "'''def createPicklefile(model):\n",
    "    pickle_out = open(\"classifier.pkl\", mode = \"wb\") \n",
    "    pickle.dump(model, pickle_out) \n",
    "    pickle_out.close()\n",
    "'''\n",
    "def main():\n",
    "\n",
    "    # Read the train data set\n",
    "    final_train = pd.read_csv('final_train.csv')\n",
    "\n",
    "    #Balance the Final Data Frame\n",
    "    df_balanced = dataOverSampler(final_train[final_train.columns[1:201]],final_train['target'])\n",
    "\n",
    "    # Define X and Y from the data frame    \n",
    "    X_train=df_balanced[df_balanced.columns[0:200]]\n",
    "    y_train=df_balanced['target']\n",
    "\n",
    "    # Train and Predict the values using LGBM Classifier\n",
    "    model = lgb.LGBMClassifier(num_rounds=500,random_state=42,n_jobs=4,boosting_type='gbdt',objective='binary')\n",
    "\n",
    "    # fit the LGBM model\n",
    "    model.fit(X_train,y_train,verbose=0,eval_metric='logloss')\n",
    "\n",
    "    # loading the trained model\n",
    "    joblib.dump(model, 'model.pkl')\n",
    "\n",
    "if __name__ == '__main__':\n",
    "    main()\n"
   ]
  },
  {
   "cell_type": "code",
   "execution_count": null,
   "id": "1ce77b8e",
   "metadata": {},
   "outputs": [],
   "source": []
  }
 ],
 "metadata": {
  "kernelspec": {
   "display_name": "Python 3 (ipykernel)",
   "language": "python",
   "name": "python3"
  },
  "language_info": {
   "codemirror_mode": {
    "name": "ipython",
    "version": 3
   },
   "file_extension": ".py",
   "mimetype": "text/x-python",
   "name": "python",
   "nbconvert_exporter": "python",
   "pygments_lexer": "ipython3",
   "version": "3.9.7"
  }
 },
 "nbformat": 4,
 "nbformat_minor": 5
}
